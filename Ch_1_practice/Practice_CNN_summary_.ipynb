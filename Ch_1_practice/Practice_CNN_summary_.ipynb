{
  "nbformat": 4,
  "nbformat_minor": 0,
  "metadata": {
    "colab": {
      "name": "Practice CNN summary .ipynb",
      "provenance": [],
      "authorship_tag": "ABX9TyMMbxJogs85HEbqcHdTB89y",
      "include_colab_link": true
    },
    "kernelspec": {
      "name": "python3",
      "display_name": "Python 3"
    }
  },
  "cells": [
    {
      "cell_type": "markdown",
      "metadata": {
        "id": "view-in-github",
        "colab_type": "text"
      },
      "source": [
        "<a href=\"https://colab.research.google.com/github/intelligencethink/Practice/blob/master/Practice_CNN_summary_.ipynb\" target=\"_parent\"><img src=\"https://colab.research.google.com/assets/colab-badge.svg\" alt=\"Open In Colab\"/></a>"
      ]
    },
    {
      "cell_type": "code",
      "metadata": {
        "id": "f0LSrqYTh-Kp",
        "colab_type": "code",
        "colab": {
          "base_uri": "https://localhost:8080/",
          "height": 289
        },
        "outputId": "5f812c2c-b3ef-4c2b-cc54-260f4e43b1be"
      },
      "source": [
        "# A sample CNN network for classification\n",
        "from __future__ import absolute_import\n",
        "from __future__ import division\n",
        "from __future__ import print_function\n",
        "\n",
        "# Keras modules\n",
        "from tensorflow.keras.models import Sequential \n",
        "from tensorflow.keras.layers import Dense, Conv2D, Flatten\n",
        "from tensorflow.keras.optimizers import RMSprop\n",
        "\n",
        "n_digits=10\n",
        "model=Sequential()\n",
        "model.add(Conv2D(filters=64,\n",
        "                 kernel_size=3,\n",
        "                 activation='relu',\n",
        "                 strides=2,\n",
        "                 input_shape=(28,28,1),\n",
        "                 padding='same'))\n",
        "model.add(Conv2D(filters=128,\n",
        "                 kernel_size=3,\n",
        "                 activation='relu',\n",
        "                 strides=2))\n",
        "model.add(Flatten())\n",
        "model.add(Dense(n_digits, activation='softmax'))\n",
        "model.compile(loss='categorical_crossentropy',\n",
        "              optimizer=RMSprop(),\n",
        "              metrics=['accuracy'])\n",
        "model.summary()"
      ],
      "execution_count": 1,
      "outputs": [
        {
          "output_type": "stream",
          "text": [
            "Model: \"sequential\"\n",
            "_________________________________________________________________\n",
            "Layer (type)                 Output Shape              Param #   \n",
            "=================================================================\n",
            "conv2d (Conv2D)              (None, 14, 14, 64)        640       \n",
            "_________________________________________________________________\n",
            "conv2d_1 (Conv2D)            (None, 6, 6, 128)         73856     \n",
            "_________________________________________________________________\n",
            "flatten (Flatten)            (None, 4608)              0         \n",
            "_________________________________________________________________\n",
            "dense (Dense)                (None, 10)                46090     \n",
            "=================================================================\n",
            "Total params: 120,586\n",
            "Trainable params: 120,586\n",
            "Non-trainable params: 0\n",
            "_________________________________________________________________\n"
          ],
          "name": "stdout"
        }
      ]
    },
    {
      "cell_type": "code",
      "metadata": {
        "id": "auBPyeYDjrrY",
        "colab_type": "code",
        "colab": {}
      },
      "source": [
        ""
      ],
      "execution_count": null,
      "outputs": []
    }
  ]
}
