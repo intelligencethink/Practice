{
  "nbformat": 4,
  "nbformat_minor": 0,
  "metadata": {
    "colab": {
      "name": "Practice mnist 1.3.2.ipynb",
      "provenance": [],
      "authorship_tag": "ABX9TyOvUZuM8asmBnQEm7iG4oXX",
      "include_colab_link": true
    },
    "kernelspec": {
      "name": "python3",
      "display_name": "Python 3"
    }
  },
  "cells": [
    {
      "cell_type": "markdown",
      "metadata": {
        "id": "view-in-github",
        "colab_type": "text"
      },
      "source": [
        "<a href=\"https://colab.research.google.com/github/intelligencethink/Practice/blob/master/Practice_mnist_1_3_2.ipynb\" target=\"_parent\"><img src=\"https://colab.research.google.com/assets/colab-badge.svg\" alt=\"Open In Colab\"/></a>"
      ]
    },
    {
      "cell_type": "code",
      "metadata": {
        "id": "dcHYQDRegJZg",
        "colab_type": "code",
        "colab": {
          "base_uri": "https://localhost:8080/",
          "height": 1000
        },
        "outputId": "363a6058-aacc-40fc-abb5-29535caa4e46"
      },
      "source": [
        "# A MLP network for MNIST digits classification\n",
        "from __future__ import absolute_import\n",
        "from __future__ import division\n",
        "from __future__ import print_function\n",
        "\n",
        "import numpy as np\n",
        "from tensorflow.keras.models import Sequential\n",
        "from tensorflow.keras.layers import Dense, Activation, Dropout\n",
        "from tensorflow.keras.utils import to_categorical, plot_model\n",
        "from tensorflow.keras.datasets import mnist\n",
        "\n",
        "(x_train, y_train), (x_test, y_test)=mnist.load_data()\n",
        "\n",
        "num_labels=len(np.unique(y_train))\n",
        "# one-hot vector\n",
        "y_train=to_categorical(y_train)\n",
        "y_test=to_categorical(y_test)\n",
        "\n",
        "image_size=x_train.shape[1]\n",
        "print(x_train.shape)\n",
        "input_size=image_size * image_size\n",
        "\n",
        "# resize and normalize\n",
        "x_train=np.reshape(x_train,[ -1, input_size])\n",
        "print(x_train.shape)\n",
        "x_train=x_train.astype('float32')/255\n",
        "x_test=np.reshape(x_test,[-1, input_size])\n",
        "x_test=x_test.astype('float32')/255\n",
        "\n",
        "# network parameters\n",
        "batch_size=128\n",
        "hidden_units=256\n",
        "dropout=0.45\n",
        "\n",
        "model=Sequential()\n",
        "model.add(Dense(hidden_units, input_dim=input_size))\n",
        "model.add(Activation('relu'))\n",
        "model.add(Dropout(dropout))\n",
        "model.add(Dense(hidden_units))\n",
        "model.add(Activation('relu'))\n",
        "model.add(Dropout(dropout))\n",
        "model.add(Dense(num_labels))\n",
        "model.add(Activation('softmax'))\n",
        "model.summary()\n",
        "plot_model(model, to_file='mlp-mnist.png', show_shapes=True)\n",
        "\n",
        "model.compile(loss='categorical_crossentropy',\n",
        "              optimizer='adam',\n",
        "              metrics=['accuracy'])\n",
        "model.fit(x_train,y_train,epochs=20,batch_size=batch_size)\n",
        "\n",
        "_,acc=model.evaluate(x_test,y_test,batch_size=batch_size,verbose=0)\n",
        "print(\"\\nTest accuracy: %.1f%%\"% (100.0*acc))\n",
        "\n"
      ],
      "execution_count": 8,
      "outputs": [
        {
          "output_type": "stream",
          "text": [
            "(60000, 28, 28)\n",
            "(60000, 784)\n",
            "Model: \"sequential_4\"\n",
            "_________________________________________________________________\n",
            "Layer (type)                 Output Shape              Param #   \n",
            "=================================================================\n",
            "dense_12 (Dense)             (None, 256)               200960    \n",
            "_________________________________________________________________\n",
            "activation_12 (Activation)   (None, 256)               0         \n",
            "_________________________________________________________________\n",
            "dropout_8 (Dropout)          (None, 256)               0         \n",
            "_________________________________________________________________\n",
            "dense_13 (Dense)             (None, 256)               65792     \n",
            "_________________________________________________________________\n",
            "activation_13 (Activation)   (None, 256)               0         \n",
            "_________________________________________________________________\n",
            "dropout_9 (Dropout)          (None, 256)               0         \n",
            "_________________________________________________________________\n",
            "dense_14 (Dense)             (None, 10)                2570      \n",
            "_________________________________________________________________\n",
            "activation_14 (Activation)   (None, 10)                0         \n",
            "=================================================================\n",
            "Total params: 269,322\n",
            "Trainable params: 269,322\n",
            "Non-trainable params: 0\n",
            "_________________________________________________________________\n",
            "Epoch 1/20\n",
            "469/469 [==============================] - 3s 7ms/step - loss: 0.4291 - accuracy: 0.8679\n",
            "Epoch 2/20\n",
            "469/469 [==============================] - 3s 7ms/step - loss: 0.1964 - accuracy: 0.9422\n",
            "Epoch 3/20\n",
            "469/469 [==============================] - 3s 7ms/step - loss: 0.1512 - accuracy: 0.9546\n",
            "Epoch 4/20\n",
            "469/469 [==============================] - 3s 7ms/step - loss: 0.1318 - accuracy: 0.9599\n",
            "Epoch 5/20\n",
            "469/469 [==============================] - 3s 7ms/step - loss: 0.1137 - accuracy: 0.9650\n",
            "Epoch 6/20\n",
            "469/469 [==============================] - 3s 7ms/step - loss: 0.1035 - accuracy: 0.9676\n",
            "Epoch 7/20\n",
            "469/469 [==============================] - 3s 7ms/step - loss: 0.0957 - accuracy: 0.9711\n",
            "Epoch 8/20\n",
            "469/469 [==============================] - 3s 7ms/step - loss: 0.0883 - accuracy: 0.9721\n",
            "Epoch 9/20\n",
            "469/469 [==============================] - 3s 7ms/step - loss: 0.0846 - accuracy: 0.9732\n",
            "Epoch 10/20\n",
            "469/469 [==============================] - 3s 7ms/step - loss: 0.0789 - accuracy: 0.9760\n",
            "Epoch 11/20\n",
            "469/469 [==============================] - 3s 7ms/step - loss: 0.0765 - accuracy: 0.9768\n",
            "Epoch 12/20\n",
            "469/469 [==============================] - 3s 7ms/step - loss: 0.0672 - accuracy: 0.9790\n",
            "Epoch 13/20\n",
            "469/469 [==============================] - 3s 7ms/step - loss: 0.0661 - accuracy: 0.9791\n",
            "Epoch 14/20\n",
            "469/469 [==============================] - 3s 7ms/step - loss: 0.0658 - accuracy: 0.9786\n",
            "Epoch 15/20\n",
            "469/469 [==============================] - 3s 7ms/step - loss: 0.0621 - accuracy: 0.9804\n",
            "Epoch 16/20\n",
            "469/469 [==============================] - 3s 7ms/step - loss: 0.0607 - accuracy: 0.9805\n",
            "Epoch 17/20\n",
            "469/469 [==============================] - 3s 7ms/step - loss: 0.0587 - accuracy: 0.9814\n",
            "Epoch 18/20\n",
            "469/469 [==============================] - 3s 7ms/step - loss: 0.0565 - accuracy: 0.9816\n",
            "Epoch 19/20\n",
            "469/469 [==============================] - 3s 7ms/step - loss: 0.0539 - accuracy: 0.9827\n",
            "Epoch 20/20\n",
            "469/469 [==============================] - 3s 7ms/step - loss: 0.0515 - accuracy: 0.9827\n",
            "\n",
            "Test accuracy: 98.1%\n"
          ],
          "name": "stdout"
        }
      ]
    },
    {
      "cell_type": "code",
      "metadata": {
        "id": "XZ5LrDiuiNwx",
        "colab_type": "code",
        "colab": {}
      },
      "source": [
        ""
      ],
      "execution_count": null,
      "outputs": []
    },
    {
      "cell_type": "code",
      "metadata": {
        "id": "HERz_ByqrJIt",
        "colab_type": "code",
        "colab": {}
      },
      "source": [
        ""
      ],
      "execution_count": null,
      "outputs": []
    }
  ]
}
