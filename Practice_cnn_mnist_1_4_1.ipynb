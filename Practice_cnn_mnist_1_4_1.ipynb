{
  "nbformat": 4,
  "nbformat_minor": 0,
  "metadata": {
    "colab": {
      "name": "Practice cnn-mnist 1.4.1.ipynb",
      "provenance": [],
      "authorship_tag": "ABX9TyN8k8RJCn6hRWSHQbk3qkRO",
      "include_colab_link": true
    },
    "kernelspec": {
      "name": "python3",
      "display_name": "Python 3"
    }
  },
  "cells": [
    {
      "cell_type": "markdown",
      "metadata": {
        "id": "view-in-github",
        "colab_type": "text"
      },
      "source": [
        "<a href=\"https://colab.research.google.com/github/intelligencethink/Practice/blob/master/Practice_cnn_mnist_1_4_1.ipynb\" target=\"_parent\"><img src=\"https://colab.research.google.com/assets/colab-badge.svg\" alt=\"Open In Colab\"/></a>"
      ]
    },
    {
      "cell_type": "code",
      "metadata": {
        "id": "dcHYQDRegJZg",
        "colab_type": "code",
        "colab": {
          "base_uri": "https://localhost:8080/",
          "height": 969
        },
        "outputId": "a2642982-d306-4c2f-f5da-5513b0e100b6"
      },
      "source": [
        "# CNN MNIST digits classification\n",
        "# 3-layer CNN for MNIST digits classification \n",
        "# First 2 layers - Conv2D-ReLU-MaxPool\n",
        "# 3rd layer - Conv2D-ReLU-Dropout\n",
        "# 4th layer - Dense(10)\n",
        "# Output Activation - softmax\n",
        "# Optimizer - Adam\n",
        "\n",
        "from __future__ import absolute_import\n",
        "from __future__ import division\n",
        "from __future__ import print_function\n",
        "\n",
        "import numpy as np\n",
        "from tensorflow.keras.models import Sequential\n",
        "from tensorflow.keras.layers import Dense, Activation, Dropout\n",
        "from tensorflow.keras.layers import Conv2D, MaxPooling2D, Flatten\n",
        "from tensorflow.keras.utils import to_categorical, plot_model\n",
        "from tensorflow.keras.datasets import mnist\n",
        "\n",
        "(x_train, y_train), (x_test, y_test)=mnist.load_data()\n",
        "\n",
        "num_labels=len(np.unique(y_train))\n",
        "# one-hot vector\n",
        "y_train=to_categorical(y_train)\n",
        "y_test=to_categorical(y_test)\n",
        "\n",
        "image_size=x_train.shape[1]\n",
        "print(x_train.shape)\n",
        "\n",
        "# resize and normalize\n",
        "x_train=np.reshape(x_train,[ -1, image_size, image_size,1])\n",
        "print(x_train.shape)\n",
        "x_train=x_train.astype('float32')/255\n",
        "x_test=np.reshape(x_test,[-1, image_size,image_size,1])\n",
        "x_test=x_test.astype('float32')/255\n",
        "\n",
        "# network parameters\n",
        "input_shape=(image_size, image_size,1)\n",
        "batch_size=128\n",
        "kernel_size=3\n",
        "pool_size=2\n",
        "filters=64\n",
        "dropout=0.2\n",
        "\n",
        "model=Sequential()\n",
        "model.add(Conv2D(filters=filters,\n",
        "                 kernel_size=kernel_size,\n",
        "                 activation='relu',\n",
        "                 input_shape=input_shape))\n",
        "model.add(MaxPooling2D(pool_size))\n",
        "model.add(Conv2D(filters=filters,\n",
        "                 kernel_size=kernel_size,\n",
        "                 activation='relu'))\n",
        "model.add(MaxPooling2D(pool_size))\n",
        "model.add(Conv2D(filters=filters,\n",
        "                 kernel_size=kernel_size,\n",
        "                 activation='relu'))\n",
        "model.add(Flatten())\n",
        "model.add(Dropout(dropout))\n",
        "model.add(Dense(num_labels))\n",
        "model.add(Activation('relu'))\n",
        "model.add(Dropout(dropout))\n",
        "model.add(Dense(num_labels))\n",
        "model.add(Activation('softmax'))\n",
        "model.summary()\n",
        "plot_model(model, to_file='cnn-mnist.png', show_shapes=True)\n",
        "\n",
        "model.compile(loss='categorical_crossentropy',\n",
        "              optimizer='adam',\n",
        "              metrics=['accuracy'])\n",
        "model.fit(x_train,y_train,epochs=10,batch_size=batch_size)\n",
        "\n",
        "_, acc=model.evaluate(x_test,y_test,batch_size=batch_size,verbose=0)\n",
        "print(\"\\nTest accuracy: %.1f%%\"% (100.0*acc))\n",
        "\n"
      ],
      "execution_count": 11,
      "outputs": [
        {
          "output_type": "stream",
          "text": [
            "(60000, 28, 28)\n",
            "(60000, 28, 28, 1)\n",
            "Model: \"sequential_7\"\n",
            "_________________________________________________________________\n",
            "Layer (type)                 Output Shape              Param #   \n",
            "=================================================================\n",
            "conv2d_5 (Conv2D)            (None, 26, 26, 64)        640       \n",
            "_________________________________________________________________\n",
            "max_pooling2d_3 (MaxPooling2 (None, 13, 13, 64)        0         \n",
            "_________________________________________________________________\n",
            "conv2d_6 (Conv2D)            (None, 11, 11, 64)        36928     \n",
            "_________________________________________________________________\n",
            "max_pooling2d_4 (MaxPooling2 (None, 5, 5, 64)          0         \n",
            "_________________________________________________________________\n",
            "conv2d_7 (Conv2D)            (None, 3, 3, 64)          36928     \n",
            "_________________________________________________________________\n",
            "flatten_1 (Flatten)          (None, 576)               0         \n",
            "_________________________________________________________________\n",
            "dropout_12 (Dropout)         (None, 576)               0         \n",
            "_________________________________________________________________\n",
            "dense_17 (Dense)             (None, 10)                5770      \n",
            "_________________________________________________________________\n",
            "activation_17 (Activation)   (None, 10)                0         \n",
            "_________________________________________________________________\n",
            "dropout_13 (Dropout)         (None, 10)                0         \n",
            "_________________________________________________________________\n",
            "dense_18 (Dense)             (None, 10)                110       \n",
            "_________________________________________________________________\n",
            "activation_18 (Activation)   (None, 10)                0         \n",
            "=================================================================\n",
            "Total params: 80,376\n",
            "Trainable params: 80,376\n",
            "Non-trainable params: 0\n",
            "_________________________________________________________________\n",
            "Epoch 1/10\n",
            "469/469 [==============================] - 71s 151ms/step - loss: 0.6343 - accuracy: 0.7812\n",
            "Epoch 2/10\n",
            "469/469 [==============================] - 71s 151ms/step - loss: 0.2681 - accuracy: 0.9083\n",
            "Epoch 3/10\n",
            "469/469 [==============================] - 71s 151ms/step - loss: 0.2086 - accuracy: 0.9254\n",
            "Epoch 4/10\n",
            "469/469 [==============================] - 71s 151ms/step - loss: 0.1805 - accuracy: 0.9369\n",
            "Epoch 5/10\n",
            "469/469 [==============================] - 71s 151ms/step - loss: 0.1642 - accuracy: 0.9419\n",
            "Epoch 6/10\n",
            "469/469 [==============================] - 71s 151ms/step - loss: 0.1566 - accuracy: 0.9441\n",
            "Epoch 7/10\n",
            "469/469 [==============================] - 71s 151ms/step - loss: 0.1457 - accuracy: 0.9480\n",
            "Epoch 8/10\n",
            "469/469 [==============================] - 71s 151ms/step - loss: 0.1361 - accuracy: 0.9509\n",
            "Epoch 9/10\n",
            "469/469 [==============================] - 71s 150ms/step - loss: 0.1305 - accuracy: 0.9527\n",
            "Epoch 10/10\n",
            "469/469 [==============================] - 70s 150ms/step - loss: 0.1232 - accuracy: 0.9554\n",
            "\n",
            "Test accuracy: 99.0%\n"
          ],
          "name": "stdout"
        }
      ]
    },
    {
      "cell_type": "code",
      "metadata": {
        "id": "XZ5LrDiuiNwx",
        "colab_type": "code",
        "colab": {}
      },
      "source": [
        ""
      ],
      "execution_count": null,
      "outputs": []
    },
    {
      "cell_type": "code",
      "metadata": {
        "id": "HERz_ByqrJIt",
        "colab_type": "code",
        "colab": {}
      },
      "source": [
        ""
      ],
      "execution_count": null,
      "outputs": []
    }
  ]
}