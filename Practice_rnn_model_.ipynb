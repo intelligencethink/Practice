{
  "nbformat": 4,
  "nbformat_minor": 0,
  "metadata": {
    "colab": {
      "name": "Practice rnn model .ipynb",
      "provenance": [],
      "authorship_tag": "ABX9TyNMYmBfvxFURuSPHDMX0qK1",
      "include_colab_link": true
    },
    "kernelspec": {
      "name": "python3",
      "display_name": "Python 3"
    }
  },
  "cells": [
    {
      "cell_type": "markdown",
      "metadata": {
        "id": "view-in-github",
        "colab_type": "text"
      },
      "source": [
        "<a href=\"https://colab.research.google.com/github/intelligencethink/Practice/blob/master/Practice_rnn_model_.ipynb\" target=\"_parent\"><img src=\"https://colab.research.google.com/assets/colab-badge.svg\" alt=\"Open In Colab\"/></a>"
      ]
    },
    {
      "cell_type": "code",
      "metadata": {
        "id": "f0LSrqYTh-Kp",
        "colab_type": "code",
        "colab": {
          "base_uri": "https://localhost:8080/",
          "height": 1000
        },
        "outputId": "b852046b-373b-49e6-96d7-c0aee7bf07b0"
      },
      "source": [
        "#RNN for MNIST digits classification\n",
        "\n",
        "\n",
        "from __future__ import absolute_import\n",
        "from __future__ import division\n",
        "from __future__ import print_function\n",
        "\n",
        "import numpy as np\n",
        "from tensorflow.keras.models import Sequential\n",
        "from tensorflow.keras.layers import Dense, Activation, SimpleRNN\n",
        "from tensorflow.keras.utils import to_categorical, plot_model\n",
        "from tensorflow.keras.datasets import mnist\n",
        "\n",
        "# load mnist dataset\n",
        "(x_train, y_train), (x_test, y_test) = mnist.load_data()\n",
        "print(x_train.shape)\n",
        "\n",
        "# compute the number of labels\n",
        "num_labels = len(np.unique(y_train))\n",
        "\n",
        "# convert to one-hot vector\n",
        "y_train = to_categorical(y_train)\n",
        "y_test = to_categorical(y_test)\n",
        "\n",
        "# resize and normalize\n",
        "image_size = x_train.shape[1]\n",
        "x_train = np.reshape(x_train,[-1, image_size, image_size])\n",
        "x_test = np.reshape(x_test,[-1, image_size, image_size])\n",
        "x_train = x_train.astype('float32') / 255\n",
        "x_test = x_test.astype('float32') / 255\n",
        "\n",
        "# network parameters\n",
        "input_shape = (image_size, image_size)\n",
        "batch_size = 128\n",
        "units = 256\n",
        "dropout = 0.2\n",
        "\n",
        "# model is RNN with 256 units, input is 28-dim vector 28 timesteps\n",
        "model = Sequential()\n",
        "model.add(SimpleRNN(units=units,\n",
        "                    dropout=dropout,\n",
        "                    input_shape=input_shape))\n",
        "model.add(Dense(num_labels))\n",
        "model.add(Activation('softmax'))\n",
        "model.summary()\n",
        "plot_model(model, to_file='rnn-mnist.png', show_shapes=True)\n",
        "\n",
        "# loss function for one-hot vector\n",
        "# use of sgd optimizer\n",
        "# accuracy is good metric for classification tasks\n",
        "model.compile(loss='categorical_crossentropy',\n",
        "              optimizer='sgd',\n",
        "              metrics=['accuracy'])\n",
        "# train the network\n",
        "model.fit(x_train, y_train, epochs=20, batch_size=batch_size)\n",
        "\n",
        "_, acc = model.evaluate(x_test,\n",
        "                        y_test,\n",
        "                        batch_size=batch_size,\n",
        "                        verbose=0)\n",
        "print(\"\\nTest accuracy: %.1f%%\" % (100.0 * acc))"
      ],
      "execution_count": 1,
      "outputs": [
        {
          "output_type": "stream",
          "text": [
            "Downloading data from https://storage.googleapis.com/tensorflow/tf-keras-datasets/mnist.npz\n",
            "11493376/11490434 [==============================] - 0s 0us/step\n",
            "(60000, 28, 28)\n",
            "Model: \"sequential\"\n",
            "_________________________________________________________________\n",
            "Layer (type)                 Output Shape              Param #   \n",
            "=================================================================\n",
            "simple_rnn (SimpleRNN)       (None, 256)               72960     \n",
            "_________________________________________________________________\n",
            "dense (Dense)                (None, 10)                2570      \n",
            "_________________________________________________________________\n",
            "activation (Activation)      (None, 10)                0         \n",
            "=================================================================\n",
            "Total params: 75,530\n",
            "Trainable params: 75,530\n",
            "Non-trainable params: 0\n",
            "_________________________________________________________________\n",
            "Epoch 1/20\n",
            "469/469 [==============================] - 26s 55ms/step - loss: 0.7754 - accuracy: 0.7676\n",
            "Epoch 2/20\n",
            "469/469 [==============================] - 26s 55ms/step - loss: 0.3394 - accuracy: 0.9003\n",
            "Epoch 3/20\n",
            "469/469 [==============================] - 26s 55ms/step - loss: 0.2518 - accuracy: 0.9245\n",
            "Epoch 4/20\n",
            "469/469 [==============================] - 26s 55ms/step - loss: 0.2043 - accuracy: 0.9388\n",
            "Epoch 5/20\n",
            "469/469 [==============================] - 26s 55ms/step - loss: 0.1807 - accuracy: 0.9456\n",
            "Epoch 6/20\n",
            "469/469 [==============================] - 26s 56ms/step - loss: 0.1570 - accuracy: 0.9529\n",
            "Epoch 7/20\n",
            "469/469 [==============================] - 26s 56ms/step - loss: 0.1477 - accuracy: 0.9555\n",
            "Epoch 8/20\n",
            "469/469 [==============================] - 26s 54ms/step - loss: 0.1314 - accuracy: 0.9607\n",
            "Epoch 9/20\n",
            "469/469 [==============================] - 26s 55ms/step - loss: 0.1236 - accuracy: 0.9633\n",
            "Epoch 10/20\n",
            "469/469 [==============================] - 26s 55ms/step - loss: 0.1151 - accuracy: 0.9655\n",
            "Epoch 11/20\n",
            "469/469 [==============================] - 26s 55ms/step - loss: 0.1081 - accuracy: 0.9672\n",
            "Epoch 12/20\n",
            "469/469 [==============================] - 26s 55ms/step - loss: 0.1027 - accuracy: 0.9690\n",
            "Epoch 13/20\n",
            "469/469 [==============================] - 26s 54ms/step - loss: 0.0957 - accuracy: 0.9712\n",
            "Epoch 14/20\n",
            "469/469 [==============================] - 26s 54ms/step - loss: 0.0934 - accuracy: 0.9720\n",
            "Epoch 15/20\n",
            "469/469 [==============================] - 26s 55ms/step - loss: 0.0895 - accuracy: 0.9725\n",
            "Epoch 16/20\n",
            "469/469 [==============================] - 26s 55ms/step - loss: 0.0849 - accuracy: 0.9739\n",
            "Epoch 17/20\n",
            "469/469 [==============================] - 26s 55ms/step - loss: 0.0806 - accuracy: 0.9754\n",
            "Epoch 18/20\n",
            "469/469 [==============================] - 26s 55ms/step - loss: 0.0786 - accuracy: 0.9758\n",
            "Epoch 19/20\n",
            "469/469 [==============================] - 26s 54ms/step - loss: 0.0739 - accuracy: 0.9776\n",
            "Epoch 20/20\n",
            "469/469 [==============================] - 26s 55ms/step - loss: 0.0737 - accuracy: 0.9768\n",
            "\n",
            "Test accuracy: 97.9%\n"
          ],
          "name": "stdout"
        }
      ]
    },
    {
      "cell_type": "code",
      "metadata": {
        "id": "auBPyeYDjrrY",
        "colab_type": "code",
        "colab": {}
      },
      "source": [
        ""
      ],
      "execution_count": null,
      "outputs": []
    }
  ]
}